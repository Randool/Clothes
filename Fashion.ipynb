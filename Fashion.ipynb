{
 "cells": [
  {
   "cell_type": "markdown",
   "metadata": {},
   "source": [
    "## Data First"
   ]
  },
  {
   "cell_type": "code",
   "execution_count": null,
   "metadata": {
    "code_folding": [],
    "scrolled": true
   },
   "outputs": [],
   "source": [
    "import os\n",
    "import torch\n",
    "import torchvision\n",
    "import torchvision.datasets as datasets\n",
    "import torchvision.transforms as transforms\n",
    "\n",
    "\n",
    "paras = {\n",
    "    'lr': 1e-3,\n",
    "    'momentum': 0.4,\n",
    "    'epochs': 25,\n",
    "    'batch': 128,\n",
    "    'step': 5,\n",
    "    'device': 'cuda:0' if torch.cuda.is_available() else 'cpu',\n",
    "\n",
    "    # datas\n",
    "    'path': 'D:\\\\data\\\\FashionMNIST\\\\' if os.name == 'nt' else '/home/ubuntu/Data/FashionMNIST',\n",
    "}\n",
    "\n",
    "# Normalize can make training easier\n",
    "trainset = datasets.FashionMNIST(\n",
    "    root=paras['path'],\n",
    "    train=True,\n",
    "    download=False,\n",
    "    transform=transforms.Compose([\n",
    "        transforms.RandomHorizontalFlip(0.5),\n",
    "        transforms.ToTensor(),\n",
    "        transforms.Normalize((0.1307,), (0.3081,))\n",
    "    ])\n",
    ")\n",
    "testset = datasets.FashionMNIST(\n",
    "    root=paras['path'],\n",
    "    train=True,\n",
    "    download=False,\n",
    "    transform=transforms.Compose([\n",
    "        transforms.ToTensor(),\n",
    "        transforms.Normalize((0.1307,), (0.3081,))\n",
    "    ])\n",
    ")\n",
    "\n",
    "trainloader = torch.utils.data.DataLoader(\n",
    "    trainset,\n",
    "    batch_size=paras['batch'],\n",
    "    shuffle=True\n",
    ")\n",
    "testloader = torch.utils.data.DataLoader(\n",
    "    testset,\n",
    "    batch_size=paras['batch']\n",
    ")"
   ]
  },
  {
   "cell_type": "markdown",
   "metadata": {},
   "source": [
    "### Show some of the training images\n",
    "\n",
    "__Labels__\n",
    "\n",
    "Each training and test example is assigned to one of the following labels:\n",
    "\n",
    "* 0 T-shirt/top\n",
    "* 1 Trouser\n",
    "* 2 Pullover\n",
    "* 3 Dress\n",
    "* 4 Coat\n",
    "* 5 Sandal\n",
    "* 6 Shirt\n",
    "* 7 Sneaker\n",
    "* 8 Bag\n",
    "* 9 Ankle boot "
   ]
  },
  {
   "cell_type": "code",
   "execution_count": null,
   "metadata": {
    "scrolled": true
   },
   "outputs": [],
   "source": [
    "import matplotlib.pyplot as plt\n",
    "import numpy as np\n",
    "\n",
    "%matplotlib inline\n",
    "\n",
    "classes = (\n",
    "    'T-shirt', 'Trouser', 'Pullover', 'Dress', 'Coat',\n",
    "    'Sandal', 'Shirt', 'Sneaker', 'Bag', 'Ankle boot'\n",
    ")\n",
    "\n",
    "dataiter = iter(trainloader)\n",
    "images, labels = dataiter.next()\n",
    "images = images[:8]\n",
    "labels = labels[:8]\n",
    "\n",
    "\n",
    "def show_imgs(imgs, labels: str):\n",
    "    imgs = imgs[:8]\n",
    "    npimg = imgs.numpy()\n",
    "    for i in range(len(imgs)):\n",
    "        npimg[i][0] = np.transpose(npimg[i][0])\n",
    "    npimg = npimg.reshape((8*28, 28)).transpose()\n",
    "    plt.imshow(npimg, cmap='gray')\n",
    "    plt.title(labels)\n",
    "    plt.show()\n",
    "\n",
    "\n",
    "labs = ' | '.join('%5s' % classes[labels[j]] for j in range(len(labels)))\n",
    "show_imgs(images, labs)"
   ]
  },
  {
   "attachments": {
    "image.png": {
     "image/png": "[encoded data removed]"
    }
   },
   "cell_type": "markdown",
   "metadata": {},
   "source": [
    "## Define the Network\n",
    "\n",
    "### Define the  Residual Block\n",
    "\n",
    "![image.png](attachment:image.png)"
   ]
  },
  {
   "cell_type": "code",
   "execution_count": null,
   "metadata": {
    "scrolled": true
   },
   "outputs": [],
   "source": [
    "import torch.nn as nn\n",
    "from torch.autograd import Variable\n",
    "import torch.nn.functional as F\n",
    "\n",
    "\n",
    "class ResidualBlock(nn.Module):\n",
    "\n",
    "    def __init__(self, in_channels, out_channels):\n",
    "        super(ResidualBlock, self).__init__()\n",
    "        self.relu = nn.ReLU()\n",
    "        self.layers = nn.Sequential(\n",
    "            nn.Conv2d(in_channels, out_channels, kernel_size=3, padding=1, bias=False),\n",
    "            nn.BatchNorm2d(out_channels),\n",
    "            self.relu,\n",
    "            nn.Conv2d(out_channels, out_channels, kernel_size=3, padding=1, bias=False),\n",
    "            nn.BatchNorm2d(out_channels)\n",
    "        )\n",
    "\n",
    "    def forward(self, x):\n",
    "        residual = x\n",
    "        x = self.layers(x)\n",
    "        x += residual\n",
    "        x = self.relu(x)\n",
    "        return x"
   ]
  },
  {
   "cell_type": "markdown",
   "metadata": {},
   "source": [
    "### Define the ResNet"
   ]
  },
  {
   "cell_type": "code",
   "execution_count": null,
   "metadata": {
    "scrolled": true
   },
   "outputs": [],
   "source": [
    "class ResNet(nn.Module):\n",
    "    def __init__(self, block_type):\n",
    "        super(ResNet, self).__init__()\n",
    "        self.firstLayer = nn.Sequential(\n",
    "            nn.Conv2d(1, 8, kernel_size=3),\n",
    "            nn.BatchNorm2d(8),\n",
    "            nn.ReLU(inplace=True)\n",
    "        )\n",
    "        self.ResBlocks = nn.Sequential(\n",
    "            block_type(8, 8),\n",
    "            block_type(8, 8),\n",
    "            block_type(8, 8),\n",
    "            block_type(8, 8),\n",
    "            block_type(8, 8),\n",
    "            block_type(8, 8),\n",
    "            block_type(8, 8),\n",
    "            block_type(8, 8)\n",
    "        )\n",
    "        self.fcLayers = nn.Sequential(\n",
    "            nn.Linear(8 * 26 * 26, 128),\n",
    "            nn.Linear(128, 10)\n",
    "        )\n",
    "\n",
    "    def forward(self, x):\n",
    "        x = self.firstLayer(x)     # -> 8 @ 28*28\n",
    "        x = self.ResBlocks(x)      # -> 8 @ 28*28\n",
    "        x = x.view(x.size(0), -1)  # -> 8 * 28 * 28\n",
    "        x = self.fcLayers(x)       # -> 10\n",
    "        return x\n",
    "\n",
    "\n",
    "resnet = ResNet(ResidualBlock)"
   ]
  },
  {
   "cell_type": "markdown",
   "metadata": {},
   "source": [
    "## Load pretrained model\n",
    "\n",
    "Before training, we can load model prtraind, so that making training much easier."
   ]
  },
  {
   "cell_type": "code",
   "execution_count": null,
   "metadata": {
    "scrolled": true
   },
   "outputs": [],
   "source": [
    "resnet.load_state_dict(torch.load(\"resnet_97.pkl\"))\n",
    "print('Done')"
   ]
  },
  {
   "cell_type": "markdown",
   "metadata": {},
   "source": [
    "## Training"
   ]
  },
  {
   "cell_type": "code",
   "execution_count": null,
   "metadata": {
    "code_folding": [],
    "scrolled": false
   },
   "outputs": [],
   "source": [
    "import torch.optim as optim\n",
    "from torch.optim import lr_scheduler\n",
    "import copy\n",
    "import time\n",
    "\n",
    "\n",
    "def train_model(model, name: str, criterion, optimizer, scheduler, epochs=10):\n",
    "    best_model_wts = copy.deepcopy(model.state_dict())\n",
    "    best_acc = 0.0\n",
    "    train_acc, test_acc = [], []\n",
    "    since = time.time()\n",
    "\n",
    "    for epoch in range(epochs):\n",
    "        print(\"====Epoch {}====\".format(epoch))\n",
    "        for phase in [\"train\", \"val\"]:\n",
    "            if phase == \"train\":\n",
    "                scheduler.step()\n",
    "                model.train()\n",
    "            else:\n",
    "                model.eval()\n",
    "\n",
    "            loss_sum, corrects = 0.0, 0\n",
    "            tic = time.time()\n",
    "\n",
    "            loader = trainloader if phase == \"train\" else testloader\n",
    "            for _, (inputs, labels) in enumerate(loader):\n",
    "                inputs = inputs.to(paras[\"device\"])\n",
    "                labels = labels.to(paras[\"device\"])\n",
    "                optimizer.zero_grad()\n",
    "\n",
    "                with torch.set_grad_enabled(phase == \"train\"):\n",
    "                    outputs = model(inputs)\n",
    "                    loss = criterion(outputs, labels)\n",
    "                    _, preds = torch.max(outputs, 1)\n",
    "\n",
    "                    if phase == \"train\":\n",
    "                        loss.backward()\n",
    "                        optimizer.step()\n",
    "\n",
    "                loss_sum += loss.item() * inputs.size(0)\n",
    "                correct = torch.sum(preds == labels.data)\n",
    "                corrects += correct\n",
    "                if phase == 'train':\n",
    "                    train_acc.append(correct)\n",
    "                else:\n",
    "                    test_acc.append(correct)\n",
    "\n",
    "            toc = time.time()\n",
    "            epoch_loss = loss_sum / len(loader.dataset)\n",
    "            epoch_acc = corrects.double() / len(loader.dataset)\n",
    "            print(\n",
    "                \"{} Loss: {:.4f} Acc: {:.4f} Cost: {:.2f} min\".format(\n",
    "                    phase, epoch_loss, epoch_acc, (toc - tic) / 60\n",
    "                )\n",
    "            )\n",
    "\n",
    "            if phase == \"val\" and epoch_acc > best_acc:\n",
    "                best_acc = epoch_acc\n",
    "                best_model_wts = copy.deepcopy(model.state_dict())\n",
    "                if epoch % 5 == 0:\n",
    "                    wts_name = \"{}_{:.4f}.pth\".format(name, best_acc)\n",
    "                    torch.save(best_model_wts, wts_name)\n",
    "\n",
    "    time_elapsed = time.time() - since\n",
    "    print(\"=\" * 10)\n",
    "    print(\n",
    "        \"Training complete in {:.0f}m {:.0f}s\".format(\n",
    "            time_elapsed // 60, time_elapsed % 60\n",
    "        )\n",
    "    )\n",
    "    print(\"*** Best val Acc: {:4f} ***\".format(best_acc))\n",
    "\n",
    "    plt.plot(train_acc)\n",
    "    plt.plot(test_acc)\n",
    "    plt.legend([\"Trainset accuracy\", \"Testset accuracy\"])\n",
    "    plt.show()\n",
    "\n",
    "    wts_name = \"{}_{:.4f}.pth\".format(name, best_acc)\n",
    "    torch.save(best_model_wts, wts_name)\n",
    "    print(\"Saved model to {}\".format(wts_name))\n",
    "\n",
    "\n",
    "criterion = nn.CrossEntropyLoss()\n",
    "optimizer = optim.Adam(resnet.parameters(), lr=paras['lr'])\n",
    "scheduler = lr_scheduler.StepLR(optimizer, step_size=paras['step'], gamma=0.5)\n",
    "\n",
    "resnet.to(paras['device'])\n",
    "train_model(resnet, \"ResNet\", criterion, optimizer, scheduler, paras['epochs'])"
   ]
  },
  {
   "cell_type": "markdown",
   "metadata": {},
   "source": [
    "## Testing and Saving the Trained Model"
   ]
  },
  {
   "cell_type": "code",
   "execution_count": null,
   "metadata": {},
   "outputs": [],
   "source": [
    "import numpy as np\n",
    "\n",
    "resnet.eval()\n",
    "\n",
    "mtx = np.zeros((10, 10), dtype=np.int)\n",
    "\n",
    "total, correct = 0, 0\n",
    "\n",
    "for inputs, labels in testloader:\n",
    "    inputs = Variable(inputs).to(paras['device'])\n",
    "    labels = Variable(labels).to(paras['device'])\n",
    "\n",
    "    outputs = resnet(inputs)\n",
    "    _, predict = torch.max(outputs.data, 1)\n",
    "\n",
    "    size = labels.size(0)\n",
    "    total += size\n",
    "    for i in range(size):\n",
    "        mtx[predict[i]][labels[i]] += 1\n",
    "    correct += (predict == labels).sum()\n",
    "\n",
    "acc = 100 * correct / total\n",
    "print(\"Accuracy: {:.2f} %\".format(acc))\n",
    "print(mtx)"
   ]
  }
 ],
 "metadata": {
  "kernelspec": {
   "display_name": "Python 3",
   "language": "python",
   "name": "python3"
  },
  "language_info": {
   "codemirror_mode": {
    "name": "ipython",
    "version": 3
   },
   "file_extension": ".py",
   "mimetype": "text/x-python",
   "name": "python",
   "nbconvert_exporter": "python",
   "pygments_lexer": "ipython3",
   "version": "3.6.4"
  },
  "toc": {
   "base_numbering": 1,
   "nav_menu": {
    "height": "164px",
    "width": "250px"
   },
   "number_sections": true,
   "sideBar": true,
   "skip_h1_title": false,
   "title_cell": "Table of Contents",
   "title_sidebar": "Contents",
   "toc_cell": false,
   "toc_position": {
    "height": "calc(100% - 180px)",
    "left": "10px",
    "top": "150px",
    "width": "283.52px"
   },
   "toc_section_display": true,
   "toc_window_display": true
  },
  "varInspector": {
   "cols": {
    "lenName": 16,
    "lenType": 16,
    "lenVar": 40
   },
   "kernels_config": {
    "python": {
     "delete_cmd_postfix": "",
     "delete_cmd_prefix": "del ",
     "library": "var_list.py",
     "varRefreshCmd": "print(var_dic_list())"
    },
    "r": {
     "delete_cmd_postfix": ") ",
     "delete_cmd_prefix": "rm(",
     "library": "var_list.r",
     "varRefreshCmd": "cat(var_dic_list()) "
    }
   },
   "oldHeight": 313.86,
   "position": {
    "height": "335.86px",
    "left": "1026.6px",
    "right": "20px",
    "top": "126px",
    "width": "459px"
   },
   "types_to_exclude": [
    "module",
    "function",
    "builtin_function_or_method",
    "instance",
    "_Feature"
   ],
   "varInspector_section_display": "block",
   "window_display": false
  }
 },
 "nbformat": 4,
 "nbformat_minor": 2
}
